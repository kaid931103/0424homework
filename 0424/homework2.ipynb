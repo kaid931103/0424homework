{
 "cells": [
  {
   "cell_type": "code",
   "execution_count": 1,
   "metadata": {},
   "outputs": [
    {
     "name": "stdout",
     "output_type": "stream",
     "text": [
      "請猜幸運數字:7\n",
      "猜錯了！\n",
      "請猜幸運數字:6\n",
      "猜錯了！\n",
      "請猜幸運數字:5\n",
      "猜錯了！\n",
      "請猜幸運數字:4\n",
      "猜錯了！\n",
      "請猜幸運數字:3\n",
      "猜錯了！\n",
      "請猜幸運數字:2\n",
      "猜錯了！\n",
      "請猜幸運數字:1\n",
      "猜錯了！\n",
      "請猜幸運數字:8\n",
      "猜對了！\n",
      "是否要再玩一次(Y/Q):Q\n"
     ]
    }
   ],
   "source": [
    "x ='Y'\n",
    "\n",
    "while x ==\"Y\":\n",
    "    \n",
    "    while x ==\"Y\":\n",
    "        num =eval(input(\"請猜幸運數字:\"))\n",
    "        if num ==8:\n",
    "            print(\"猜對了！\")\n",
    "            break\n",
    "        else:\n",
    "            print(\"猜錯了！\")\n",
    "            continue\n",
    "            \n",
    "    x =input(\"是否要再玩一次(Y/Q):\")"
   ]
  }
 ],
 "metadata": {
  "kernelspec": {
   "display_name": "Python 3",
   "language": "python",
   "name": "python3"
  },
  "language_info": {
   "codemirror_mode": {
    "name": "ipython",
    "version": 3
   },
   "file_extension": ".py",
   "mimetype": "text/x-python",
   "name": "python",
   "nbconvert_exporter": "python",
   "pygments_lexer": "ipython3",
   "version": "3.7.3"
  }
 },
 "nbformat": 4,
 "nbformat_minor": 2
}
