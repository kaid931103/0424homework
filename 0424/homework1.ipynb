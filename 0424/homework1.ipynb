{
 "cells": [
  {
   "cell_type": "code",
   "execution_count": 1,
   "metadata": {},
   "outputs": [
    {
     "name": "stdout",
     "output_type": "stream",
     "text": [
      "請輸入成績:0\n",
      "不及格！\n"
     ]
    }
   ],
   "source": [
    "x = eval(input(\"請輸入成績:\"))\n",
    "\n",
    "if x <60 and x >=0:\n",
    "    print(\"不及格！\")\n",
    "elif x <80 and x >=60:\n",
    "    print(\"及格！\")\n",
    "elif x >=80 and x <=100:\n",
    "    print(\"優良！\")\n",
    "elif x >100 or x <0:\n",
    "    print(\"超出成績範圍！\")"
   ]
  },
  {
   "cell_type": "code",
   "execution_count": 2,
   "metadata": {},
   "outputs": [
    {
     "name": "stdout",
     "output_type": "stream",
     "text": [
      "請輸入成績:59\n",
      "不及格！\n"
     ]
    }
   ],
   "source": [
    "x = eval(input(\"請輸入成績:\"))\n",
    "\n",
    "if x <60 and x >=0:\n",
    "    print(\"不及格！\")\n",
    "elif x <80 and x >=60:\n",
    "    print(\"及格！\")\n",
    "elif x >=80 and x <=100:\n",
    "    print(\"優良！\")\n",
    "elif x >100 or x <0:\n",
    "    print(\"超出成績範圍！\")"
   ]
  },
  {
   "cell_type": "code",
   "execution_count": 3,
   "metadata": {},
   "outputs": [
    {
     "name": "stdout",
     "output_type": "stream",
     "text": [
      "請輸入成績:60\n",
      "及格！\n"
     ]
    }
   ],
   "source": [
    "x = eval(input(\"請輸入成績:\"))\n",
    "\n",
    "if x <60 and x >=0:\n",
    "    print(\"不及格！\")\n",
    "elif x <80 and x >=60:\n",
    "    print(\"及格！\")\n",
    "elif x >=80 and x <=100:\n",
    "    print(\"優良！\")\n",
    "elif x >100 or x <0:\n",
    "    print(\"超出成績範圍！\")"
   ]
  },
  {
   "cell_type": "code",
   "execution_count": 4,
   "metadata": {},
   "outputs": [
    {
     "name": "stdout",
     "output_type": "stream",
     "text": [
      "請輸入成績:79\n",
      "及格！\n"
     ]
    }
   ],
   "source": [
    "x = eval(input(\"請輸入成績:\"))\n",
    "\n",
    "if x <60 and x >=0:\n",
    "    print(\"不及格！\")\n",
    "elif x <80 and x >=60:\n",
    "    print(\"及格！\")\n",
    "elif x >=80 and x <=100:\n",
    "    print(\"優良！\")\n",
    "elif x >100 or x <0:\n",
    "    print(\"超出成績範圍！\")"
   ]
  },
  {
   "cell_type": "code",
   "execution_count": 5,
   "metadata": {},
   "outputs": [
    {
     "name": "stdout",
     "output_type": "stream",
     "text": [
      "請輸入成績:80\n",
      "優良！\n"
     ]
    }
   ],
   "source": [
    "x = eval(input(\"請輸入成績:\"))\n",
    "\n",
    "if x <60 and x >=0:\n",
    "    print(\"不及格！\")\n",
    "elif x <80 and x >=60:\n",
    "    print(\"及格！\")\n",
    "elif x >=80 and x <=100:\n",
    "    print(\"優良！\")\n",
    "elif x >100 or x <0:\n",
    "    print(\"超出成績範圍！\")"
   ]
  },
  {
   "cell_type": "code",
   "execution_count": 6,
   "metadata": {},
   "outputs": [
    {
     "name": "stdout",
     "output_type": "stream",
     "text": [
      "請輸入成績:100\n",
      "優良！\n"
     ]
    }
   ],
   "source": [
    "x = eval(input(\"請輸入成績:\"))\n",
    "\n",
    "if x <60 and x >=0:\n",
    "    print(\"不及格！\")\n",
    "elif x <80 and x >=60:\n",
    "    print(\"及格！\")\n",
    "elif x >=80 and x <=100:\n",
    "    print(\"優良！\")\n",
    "elif x >100 or x <0:\n",
    "    print(\"超出成績範圍！\")"
   ]
  },
  {
   "cell_type": "code",
   "execution_count": 7,
   "metadata": {},
   "outputs": [
    {
     "name": "stdout",
     "output_type": "stream",
     "text": [
      "請輸入成績:101\n",
      "超出成績範圍！\n"
     ]
    }
   ],
   "source": [
    "x = eval(input(\"請輸入成績:\"))\n",
    "\n",
    "if x <60 and x >=0:\n",
    "    print(\"不及格！\")\n",
    "elif x <80 and x >=60:\n",
    "    print(\"及格！\")\n",
    "elif x >=80 and x <=100:\n",
    "    print(\"優良！\")\n",
    "elif x >100 or x <0:\n",
    "    print(\"超出成績範圍！\")"
   ]
  },
  {
   "cell_type": "code",
   "execution_count": 8,
   "metadata": {},
   "outputs": [
    {
     "name": "stdout",
     "output_type": "stream",
     "text": [
      "請輸入成績:-1\n",
      "超出成績範圍！\n"
     ]
    }
   ],
   "source": [
    "x = eval(input(\"請輸入成績:\"))\n",
    "\n",
    "if x <60 and x >=0:\n",
    "    print(\"不及格！\")\n",
    "elif x <80 and x >=60:\n",
    "    print(\"及格！\")\n",
    "elif x >=80 and x <=100:\n",
    "    print(\"優良！\")\n",
    "elif x >100 or x <0:\n",
    "    print(\"超出成績範圍！\")"
   ]
  }
 ],
 "metadata": {
  "kernelspec": {
   "display_name": "Python 3",
   "language": "python",
   "name": "python3"
  },
  "language_info": {
   "codemirror_mode": {
    "name": "ipython",
    "version": 3
   },
   "file_extension": ".py",
   "mimetype": "text/x-python",
   "name": "python",
   "nbconvert_exporter": "python",
   "pygments_lexer": "ipython3",
   "version": "3.7.3"
  }
 },
 "nbformat": 4,
 "nbformat_minor": 2
}
